{
 "cells": [
  {
   "cell_type": "code",
   "execution_count": null,
   "metadata": {},
   "outputs": [],
   "source": [
    "from time import time"
   ]
  },
  {
   "cell_type": "code",
   "execution_count": 1,
   "metadata": {},
   "outputs": [],
   "source": [
    "class Stack:\n",
    "    # Array representation\n",
    "    \n",
    "    def __init__(self):\n",
    "        self.stack = []\n",
    "        \n",
    "    def is_empty(self):\n",
    "        return self.stack == []\n",
    "    \n",
    "    def push(self, data):\n",
    "        # O(1)\n",
    "        self.stack.append(data)\n",
    "    \n",
    "    def pop(self):\n",
    "        # O(1)\n",
    "        data = self.stack[-1]\n",
    "        del self.stack[-1]\n",
    "        return data\n",
    "    \n",
    "    def peek(self):\n",
    "        # O(1)\n",
    "        return self.stack[-1]\n",
    "    \n",
    "    def size(self):\n",
    "        return len(self.stack)"
   ]
  },
  {
   "cell_type": "code",
   "execution_count": 3,
   "metadata": {},
   "outputs": [
    {
     "name": "stdout",
     "output_type": "stream",
     "text": [
      "3\n",
      "Popped: 3\n",
      "Popped: 2\n",
      "1\n",
      "Peek: 1\n",
      "1\n"
     ]
    }
   ],
   "source": [
    "stack = Stack()\n",
    "\n",
    "\n",
    "for i in range(1, 4):\n",
    "    stack.push(i)\n",
    "    \n",
    "print(stack.size())\n",
    "print(f\"Popped: {stack.pop()}\")\n",
    "print(f\"Popped: {stack.pop()}\")\n",
    "print(stack.size())\n",
    "print(f\"Peek: {stack.peek()}\")\n",
    "print(stack.size())"
   ]
  },
  {
   "cell_type": "code",
   "execution_count": null,
   "metadata": {},
   "outputs": [],
   "source": []
  }
 ],
 "metadata": {
  "kernelspec": {
   "display_name": "Python 3",
   "language": "python",
   "name": "python3"
  },
  "language_info": {
   "codemirror_mode": {
    "name": "ipython",
    "version": 3
   },
   "file_extension": ".py",
   "mimetype": "text/x-python",
   "name": "python",
   "nbconvert_exporter": "python",
   "pygments_lexer": "ipython3",
   "version": "3.7.4"
  }
 },
 "nbformat": 4,
 "nbformat_minor": 2
}
