{
 "cells": [
  {
   "cell_type": "markdown",
   "metadata": {},
   "source": [
    "# Graphs Theory"
   ]
  },
  {
   "cell_type": "markdown",
   "metadata": {},
   "source": [
    " * Graphs are mathematical structures to model pairwise relations between given objects;\n",
    " * They are represented as **G(V, E)**:\n",
    "     - V: Number of Vertices\n",
    "     - E: Number of Edges\n",
    " * Made up of vertices/nodes and edges\n",
    " * Two types:\n",
    "     - **Directed Graph:** There are directed edges pointing from one vertice to another;\n",
    "     - **Undirected Graph:** There are vertices and edges, but these doens't point;\n",
    "     \n",
    " * How to model them in programming languages:\n",
    "      - **Adjencency Matrixes**:\n",
    "          There is an A matrix constructed of the vertices. The A(i, j) value is 1 if there is a connection between the node I and the node J, otherwise A(i, j) is 0;\n",
    "      - **Edge List Representation**:\n",
    "          We create a Vertex class that stores the neighbors accordingly;\n",
    "          ```\n",
    "          class Vertex\n",
    "              \n",
    "              vertexName;\n",
    "              Visited;\n",
    "              Vertex[] neighbors\n",
    "           \n",
    "           ```\n",
    " * **Applications:**\n",
    "     - Shortest path algorithm (GPS, high frequency trading...);\n",
    "     - Graph traversing: Web crawlers for Google;\n",
    "     - Spanning trees;\n",
    "     - Maximum flow problem: lots of problems can be reduced to maximum flow:\n",
    "     - Since there are two representations, we can handle these problems with matrixes as well;"
   ]
  },
  {
   "cell_type": "code",
   "execution_count": null,
   "metadata": {},
   "outputs": [],
   "source": []
  }
 ],
 "metadata": {
  "kernelspec": {
   "display_name": "Python 3",
   "language": "python",
   "name": "python3"
  },
  "language_info": {
   "codemirror_mode": {
    "name": "ipython",
    "version": 3
   },
   "file_extension": ".py",
   "mimetype": "text/x-python",
   "name": "python",
   "nbconvert_exporter": "python",
   "pygments_lexer": "ipython3",
   "version": "3.7.4"
  }
 },
 "nbformat": 4,
 "nbformat_minor": 2
}
