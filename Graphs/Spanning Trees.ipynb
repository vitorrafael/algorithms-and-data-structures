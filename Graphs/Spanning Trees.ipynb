{
 "cells": [
  {
   "cell_type": "markdown",
   "metadata": {},
   "source": [
    "# Union Find Data Structure\n",
    "\n",
    "   * Also knows as **Disjoint set**;\n",
    "   * Keep track ofa set of elements partiotioned into a number of disjoin subsets;\n",
    "   * **_Operations_**:\n",
    "       * **makeSet:**\n",
    "           ``` pseudocode\n",
    "               function makeSet(x):\n",
    "                   x.parent = x\n",
    "           ```\n",
    "           Creates a distinct set to all the items/nodes;\n",
    "       \n",
    "       * **Find:**\n",
    "           ``` pseudocode\n",
    "               function find(x):\n",
    "                   if x.parent == x:\n",
    "                       return x\n",
    "                    else:\n",
    "                        return find(x.parent)\n",
    "            ```\n",
    "            Several items can belong to the same set **->** We usually represent the set with one of its items (representative of the set). Returns with the representative;\n",
    "       \n",
    "       * **Union:**\n",
    "           ``` pseudocode\n",
    "               function union(x, y):\n",
    "                   xRoot = find(x)\n",
    "                   yRoot = find(y)\n",
    "                   \n",
    "                   xRoot.parent = yRoot\n",
    "           ```\n",
    "           - Merges two disjoint sets together by connecting them according to the reprensentatives\n",
    "           - **PROBLEM:** Can be unbalanced\n",
    "           - **SOLUTIONS:**\n",
    "               - **Union by rank:** always attach the smaller tree to the root of the larger one **->** Tree will become balanced;\n",
    "               - **Path Compression:** Flats the structure of the tree. Every visited node is connected to the root directly;\n",
    "               ``` pseudocode\n",
    "                   function find(x):\n",
    "                       if x.parent != x:\n",
    "                           x.parent = find(x.parent)\n",
    "                       return x.parent\n",
    "                ```\n",
    "   * The **Rank** is the depth of the tree;\n",
    "   * Represented with a linked list but it is usually implemented with a tree like structure;\n",
    "   * In **Kruskal algorithm** we can decide in approximately **O(1)** time wheter two vertexes are in the same set or not;\n",
    "   \n",
    "### Applications\n",
    "   * **Kruskal-algorithm implementation**"
   ]
  },
  {
   "cell_type": "code",
   "execution_count": null,
   "metadata": {},
   "outputs": [],
   "source": []
  }
 ],
 "metadata": {
  "kernelspec": {
   "display_name": "Python 3",
   "language": "python",
   "name": "python3"
  },
  "language_info": {
   "codemirror_mode": {
    "name": "ipython",
    "version": 3
   },
   "file_extension": ".py",
   "mimetype": "text/x-python",
   "name": "python",
   "nbconvert_exporter": "python",
   "pygments_lexer": "ipython3",
   "version": "3.7.4"
  }
 },
 "nbformat": 4,
 "nbformat_minor": 2
}
