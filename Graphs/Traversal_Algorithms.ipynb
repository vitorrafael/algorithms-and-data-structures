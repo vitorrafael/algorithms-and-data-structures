{
 "cells": [
  {
   "cell_type": "markdown",
   "metadata": {},
   "source": [
    "# Breadth First Search\n",
    "\n",
    "   - What is it good for?\n",
    "       * We want to **visit every node** in a Graph;\n",
    "       * We visit every vertex once;\n",
    "       * We visit the neighbours then the neighbours of these and so on;\n",
    "       * **Running Time Complexity: O(V+E)**\n",
    "       * Memory complexity not so good due to the lots of references;\n",
    "       * But it construct a shortest path: Dijkstra Algorithm does a BFS if all edge weights are equal to 1;\n",
    "       * We have an FIFO Structure;\n",
    "       * There is an empty queue and we keep checking wheter we visited the node or not;\n",
    "       * Keep iterating until queue is not empty;\n",
    "       \n",
    "       ```\n",
    "       bfs(vertex)\n",
    "       \n",
    "           Queue queue\n",
    "           vertex set visited true\n",
    "           queue.enqueue(vertex)\n",
    "           \n",
    "           while queue not empty\n",
    "               actual = queue.dequeue()\n",
    "               \n",
    "               for v in actual neighbours\n",
    "                   if v is not visited\n",
    "                       v set visited true\n",
    "                       queue.enqueue(v)\n",
    "       ```\n",
    "       * **Breadth First Search** visits every vertex in a row by row way;\n",
    "       \n",
    "       \n",
    "   - **Applications**:\n",
    "        * Artificial intelligence / machine learning;\n",
    "        * Maximum flow algorithms -> Edmonds-Karp Algorithm;\n",
    "        * Garbage Collections -> Cheyen's algorithm;\n",
    "        * Serialization / deserialization of a tree like structure -> it allows the tree to be reconstructed in an efficiente manner;\n",
    "        \n",
    "\n",
    "# Implementation"
   ]
  },
  {
   "cell_type": "code",
   "execution_count": 3,
   "metadata": {},
   "outputs": [],
   "source": [
    "class Node:\n",
    "    \n",
    "    def __init__(self, name):\n",
    "        self.name = name\n",
    "        self.adjencency_list = []\n",
    "        self.visited = False\n",
    "        self.predecessor = None\n",
    "\n",
    "class BreadthFirstSearch:\n",
    "    \n",
    "    def bfs(self, start_node):\n",
    "        \n",
    "        queue = [] # Underlying abstract data type\n",
    "        queue.append(start_node) # Append the start node\n",
    "        start_node.visited = True\n",
    "        \n",
    "        # BFS -> queue \n",
    "        while queue:\n",
    "            \n",
    "            actual_node = queue.pop(0) # Picks the first node\n",
    "            print(\"%s\" % actual_node.name)\n",
    "            \n",
    "            for n in actual_node.adjencency_list:\n",
    "                if not n.visited: \n",
    "                    n.visited = True\n",
    "                    queue.append(n) # Append to the queue the neighbors of each node\n",
    "                    \n",
    "                    "
   ]
  },
  {
   "cell_type": "code",
   "execution_count": 4,
   "metadata": {},
   "outputs": [
    {
     "name": "stdout",
     "output_type": "stream",
     "text": [
      "A\n",
      "B\n",
      "C\n",
      "D\n",
      "E\n"
     ]
    }
   ],
   "source": [
    "node1 = Node('A')\n",
    "node2 = Node('B')\n",
    "node3 = Node('C')\n",
    "node4 = Node('D')\n",
    "node5 = Node('E')\n",
    "\n",
    "node1.adjencency_list.append(node2)\n",
    "node1.adjencency_list.append(node3)\n",
    "node2.adjencency_list.append(node4)\n",
    "node4.adjencency_list.append(node5)\n",
    "\n",
    "bfs = BreadthFirstSearch()\n",
    "bfs.bfs(node1)"
   ]
  },
  {
   "cell_type": "markdown",
   "metadata": {},
   "source": [
    "# Depth First Search\n",
    "\n",
    "  * Widely used graph traversal algorithm\n",
    "  * Investigated as strategy for solving mazes by Trémaux in the 19th century;\n",
    "  * Goes as far as possible along each branch before backtracking;\n",
    "  * **Time Complexity: O(V+E)**;\n",
    "  * Memory complexity a bit better than of BFS;\n",
    "  \n",
    "  - _**Pseudocode:**_\n",
    "      * **Recursion**:\n",
    "      \n",
    "      ```\n",
    "      dfs (vertex)\n",
    "          vertex set visited true\n",
    "          print vertex\n",
    "          \n",
    "          for v in vertex neighbours\n",
    "              if v is not visited\n",
    "                  dfs(v)\n",
    "      ```\n",
    "      \n",
    "      * **Iteration**:\n",
    "      \n",
    "      ```\n",
    "      dfs(vertex)\n",
    "          Stack stack\n",
    "          vertex set visited true\n",
    "          stack.push(vertex)\n",
    "          \n",
    "          while stack not empty\n",
    "              actual = stack.pop()\n",
    "              \n",
    "              for v in actual neighbours\n",
    "                  if v is not visited\n",
    "                      v set visited true\n",
    "                      stack.push(v)\n",
    "      ```\n",
    "      \n",
    "    * While we use **queues in BFS**, in **DFS we use stacks;**\n",
    "    \n",
    "    \n",
    "   - **Applications:**\n",
    "        * Topological ordering;\n",
    "        * Korsaraju algorithm for finding strongly connected components in a graph which can be proved to be very important in recommendation systems;\n",
    "        * Detecting cycles (checking wheter a graph is a DAG or not);\n",
    "        * Generating mazes OR finding a way out of a maze;\n",
    "\n",
    "# Implementation"
   ]
  },
  {
   "cell_type": "code",
   "execution_count": 16,
   "metadata": {},
   "outputs": [],
   "source": [
    "class Node:\n",
    "    \n",
    "    def __init__(self, name):\n",
    "        self.name = name\n",
    "        self.adjencencies_list = []\n",
    "        self.visited = False\n",
    "        self.predecessor = None\n",
    "        \n",
    "class DepthFirstSearch:\n",
    "    \n",
    "    # We use a stack and goes as deep as possible into the tree\n",
    "    \n",
    "    def dfs(self, node):\n",
    "        \n",
    "        node.visited = True\n",
    "        print(node.name)\n",
    "        \n",
    "        for n in node.adjencencies_list:\n",
    "            if not n.visited:\n",
    "                self.dfs(n)"
   ]
  },
  {
   "cell_type": "code",
   "execution_count": 17,
   "metadata": {},
   "outputs": [
    {
     "name": "stdout",
     "output_type": "stream",
     "text": [
      "A\n",
      "B\n",
      "D\n",
      "E\n",
      "C\n"
     ]
    }
   ],
   "source": [
    "node1 = Node('A')\n",
    "node2 = Node('B')\n",
    "node3 = Node('C')\n",
    "node4 = Node('D')\n",
    "node5 = Node('E')\n",
    "\n",
    "node1.adjencencies_list.append(node2)\n",
    "node1.adjencencies_list.append(node3)\n",
    "node2.adjencencies_list.append(node4)\n",
    "node4.adjencencies_list.append(node5)\n",
    "\n",
    "dfs = DepthFirstSearch()\n",
    "dfs.dfs(node1)"
   ]
  },
  {
   "cell_type": "markdown",
   "metadata": {},
   "source": [
    "## Memory Management: BFS vs DFS\n",
    "\n",
    "   * The **memory complexity** for a queue abstract data type is O(N) -> BFS;\n",
    "   * Since we have to backtrack, we just have to store as many items on the stack as the height of the ree (logN) -> Time Complexity: O(logN) -> DFS;\n",
    "   \n",
    "   _**Summarizing**_\n",
    "   - **Breadth-First Search: O(N)**\n",
    "   - **Depth-First Search: O(logN)**\n",
    "   \n",
    "   That is why **DFS is preferred most of the times**, but there are some sitatuions - such as artificial intelligence, and robot movements - where BFS is better;"
   ]
  },
  {
   "cell_type": "code",
   "execution_count": null,
   "metadata": {},
   "outputs": [],
   "source": []
  }
 ],
 "metadata": {
  "kernelspec": {
   "display_name": "Python 3",
   "language": "python",
   "name": "python3"
  },
  "language_info": {
   "codemirror_mode": {
    "name": "ipython",
    "version": 3
   },
   "file_extension": ".py",
   "mimetype": "text/x-python",
   "name": "python",
   "nbconvert_exporter": "python",
   "pygments_lexer": "ipython3",
   "version": "3.7.4"
  }
 },
 "nbformat": 4,
 "nbformat_minor": 2
}
