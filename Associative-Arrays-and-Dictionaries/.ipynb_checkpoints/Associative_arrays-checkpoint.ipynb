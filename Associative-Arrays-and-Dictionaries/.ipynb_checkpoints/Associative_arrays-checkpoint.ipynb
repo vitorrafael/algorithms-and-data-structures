{
 "cells": [
  {
   "cell_type": "markdown",
   "metadata": {},
   "source": [
    "# Associative Arrays\n",
    "\n",
    "* Associative arrays/Maps/Dictionaries are abstract data types;\n",
    "* Composed of a collection of key-value pairs where each key is unique;\n",
    "* Most of the times we implement associative rrays with hashtables but binary search trees can be used as well;\n",
    "* Goal: Reach O(1) on most operations\n"
   ]
  },
  {
   "cell_type": "markdown",
   "metadata": {},
   "source": [
    "### Supported Operations:\n",
    "    * Add key-value pairs to the collection\n",
    "    * Remove key-valeu pairs from the collection\n",
    "    * Update existing key-value pairs\n",
    "    * Look up for a value associated to a given key"
   ]
  }
 ],
 "metadata": {
  "kernelspec": {
   "display_name": "Python 3",
   "language": "python",
   "name": "python3"
  },
  "language_info": {
   "codemirror_mode": {
    "name": "ipython",
    "version": 3
   },
   "file_extension": ".py",
   "mimetype": "text/x-python",
   "name": "python",
   "nbconvert_exporter": "python",
   "pygments_lexer": "ipython3",
   "version": "3.7.4"
  }
 },
 "nbformat": 4,
 "nbformat_minor": 2
}
