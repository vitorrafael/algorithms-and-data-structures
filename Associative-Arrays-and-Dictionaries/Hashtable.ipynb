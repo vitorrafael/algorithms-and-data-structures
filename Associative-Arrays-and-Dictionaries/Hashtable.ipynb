{
 "cells": [
  {
   "cell_type": "markdown",
   "metadata": {},
   "source": [
    "# HASH TABLES / DICTIONARIES\n",
    "\n",
    "### Motivation:\n",
    "    * Store a key value pairs;\n",
    "    * PROBLEM: Arrays transforms any key into indexes, this is why hashfunctions came to be;\n",
    "    \n",
    "### Basics:\n",
    "    * Balance BST -> O(logN) for several operations;\n",
    "    * In hashtables we can achieve O(1);\n",
    "    * h() functions maps keys to indexes in an array;\n",
    "    \n",
    "    In general we have n items to be storem + m buckets in which we can store them\n",
    "    Problem: Keys are not always nonnegatives integers, so we have to do prehashing in order to map string keys to indexes of an array;\n",
    "    \n",
    "    Key Space -> Buckets;\n",
    "    Relationship between the keys and the array slots;\n",
    "    \n",
    "    Hashing: We can map a certain key of any type to a random array index;\n",
    "    \n",
    "#### Hash Function\n",
    "    - Distribute the keys uniformly into buckets;\n",
    "    - n: number of keys;\n",
    "    - m: number of buckets;\n",
    "    - h(x) = n % m\n",
    "    - We should use prime numbers for both to make sure the distribution of the generated indexes will be uniform;\n",
    "    - String keys: Calculate the ASCII value for each character, add them up -> make % modulo"
   ]
  },
  {
   "cell_type": "markdown",
   "metadata": {},
   "source": [
    "### Collisions\n",
    "\n",
    "   - Two keys mapped to the same bucket;\n",
    "   - Solutions:\n",
    "       1. **Chaining**: Store both values at the same bucket with linked lists;\n",
    "       2. **Open addressing**: Generate a new index for the item;\n",
    "   - Open addressing > chaining:\n",
    "       - If there are many collision, the chaining solution blocks the O(1) time complexity. Moreover, it needs more memory due to the references.\n",
    "   - **Open Addressing**: If a collision occurs we find an empty slot instead:\n",
    "        * **Linear Probing**: Try the next slot until we find an empty one;\n",
    "        * **Quadratic Probing**: Try slots 1, 2, 4, 8 far;\n",
    "        * **Rehashing**: Hash the result again in order to find an empty slot;\n",
    "        \n",
    "|          |  AVERAGE  |  WORST CASE  |\n",
    "| -------- | --------- | ------------ |\n",
    "|  Space   |     O(N)  |     O(N)     |\n",
    "|  Search  |     O(1)  |     O(N)     |\n",
    "|  Insert  |     O(1)  |     O(N)     |\n",
    "|  Delete  |     O(1)  |     O(N)     |"
   ]
  },
  {
   "cell_type": "markdown",
   "metadata": {},
   "source": [
    "## Dinamic Resizing\n",
    "   - **Load Factor**: Number of entries divided by the number os slots/buckets;\n",
    "        - N/M\n",
    "        - 0 if the hashtable is empty;\n",
    "        - 1 if the hashtable is full;\n",
    "        - **Load factor is approximately 1**: Nearly full, the performance will be decrease, the operations will be slow;\n",
    "        - **Load factor is approximately 0**: Nearly empty, there will be a lot of memory wasted; \\\n",
    "        **SOLUTION**: DINAMIC RESIZING\n",
    "        \n",
    "- **DINAMIC RESIZING**:\n",
    "    - Performance depends of the load factor;\n",
    "    - Space-time tradeoff is important: the solution is to resize table, when its load factor exceeds given threshold;\n",
    "    - Java: Load factor > 0.75 -> Hashmap automatically resized;\n",
    "    - **Python**: The threashold is 0.66:\n",
    "        - Hash values depend on thable's size so hashes of entries are changed when resizing and algorithm can't just copy data from old storage to the new;\n",
    "        - Resizing takes **O(N)** to complete, where _n_ is a number of entries of the table. This may make dynamic-sized hash tables inappropriate for real-time applications.\n",
    "        \n",
    "- **APPLICATIONS**:\n",
    "    - Databases: Sometimes search trees, sometimes hashing is better;\n",
    "    - Counting given word accurence is a particular document;\n",
    "    - Storing data + lookup tables (password checks);\n",
    "    - Lookup tables in huge networks (lookup for IP addresses);\n",
    "    - The hashing technique can be used for substring search -> **_Rabin-Karp Algorithm_**.\n",
    "    "
   ]
  },
  {
   "cell_type": "markdown",
   "metadata": {},
   "source": [
    "# Linear Probing Implementation"
   ]
  },
  {
   "cell_type": "code",
   "execution_count": 3,
   "metadata": {},
   "outputs": [],
   "source": [
    "class HashTable:\n",
    "    \n",
    "    def __init__(self):\n",
    "        \n",
    "        self.size = 10\n",
    "        self.keys = [None] * self.size\n",
    "        self.values = [None] * self.size\n",
    "    \n",
    "    def put(self, key, data):\n",
    "        index = self.hashfunction(key)\n",
    "        \n",
    "        # not None -> It is a collision\n",
    "        while self.keys[index] is not None:\n",
    "            if self.keys[index] == key:\n",
    "                self.values[index] = data # Update\n",
    "                return\n",
    "            \n",
    "            # Rehash try to find another slot\n",
    "            index = (index+1) % self.size\n",
    "        \n",
    "        # Insert\n",
    "        self.keys[index] = key\n",
    "        self.values[index] = data\n",
    "    \n",
    "    def hashfunction(self, key):\n",
    "        \"\"\"\n",
    "            Must return an integer -> The index of the arrayslot\n",
    "            Use ASCII values for the characters\n",
    "            Sum them up and use the modulo operator to transform the final\n",
    "        index in a valid range\n",
    "            Normalize it with the size of the underlying array\n",
    "        \n",
    "            We should use prime numbers to make the collision less probable\n",
    "        \"\"\"\n",
    "        sum = 0\n",
    "        for pos in range(len(key)):\n",
    "            sum = sum + ord(key[pos])\n",
    "        return sum % self.size\n",
    "    \n",
    "    def get(self, key):\n",
    "        \n",
    "        index = self.hashfunction(key)\n",
    "        \n",
    "        while self.keys[index] is not None:\n",
    "            if self.keys[index] == key:\n",
    "                return self.values[index]\n",
    "            \n",
    "            index = (index+1) % self.size\n",
    "            \n",
    "        #It means that the key is not present in the associative array\n",
    "        return None"
   ]
  },
  {
   "cell_type": "code",
   "execution_count": 8,
   "metadata": {},
   "outputs": [
    {
     "name": "stdout",
     "output_type": "stream",
     "text": [
      "40\n"
     ]
    }
   ],
   "source": [
    "table = HashTable()\n",
    "\n",
    "table.put(\"apple\", 10)\n",
    "table.put(\"orange\", 20)\n",
    "table.put(\"car\", 30)\n",
    "table.put(\"table\", 40)\n",
    "\n",
    "print(table.get(\"table\"))"
   ]
  },
  {
   "cell_type": "markdown",
   "metadata": {},
   "source": [
    "## Hashing Applications\n",
    "\n",
    "1. Index generation in hashmaps and dictionaries:\n",
    "    - We can achieve O(1) running time complexity for insertion and retrieval with a perfect hashfunction;\n",
    "2. Hashes are important in cryptography -> Cryptographic fingerprints:\n",
    "    - We can generate the hash for a given file and it will uniquely identify that document;\n",
    "    - If anything changes then the hash will change as well;\n",
    "3. Password verification:\n",
    "    - In the server, in order to protect from hacker attacks, we store the hashes of the passwords;\n",
    "    - This way the attacker can use a valid password;\n",
    "    - Of course when the user enters the password a hashfunction must be applied;\n",
    "4. Blockchains: The identifiers of the blocks are SHA-256 hashes.\n",
    "    - The blockchain itself is a linked list with hash-pointers;\n",
    "    - Every node has 2 hash values: own hash and the hash value of the previous block;"
   ]
  },
  {
   "cell_type": "code",
   "execution_count": null,
   "metadata": {},
   "outputs": [],
   "source": []
  }
 ],
 "metadata": {
  "kernelspec": {
   "display_name": "Python 3",
   "language": "python",
   "name": "python3"
  },
  "language_info": {
   "codemirror_mode": {
    "name": "ipython",
    "version": 3
   },
   "file_extension": ".py",
   "mimetype": "text/x-python",
   "name": "python",
   "nbconvert_exporter": "python",
   "pygments_lexer": "ipython3",
   "version": "3.7.4"
  }
 },
 "nbformat": 4,
 "nbformat_minor": 2
}
