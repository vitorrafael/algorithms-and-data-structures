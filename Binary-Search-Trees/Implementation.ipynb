{
 "cells": [
  {
   "cell_type": "code",
   "execution_count": 69,
   "metadata": {},
   "outputs": [],
   "source": [
    "class Node:\n",
    "    # Nodes or vertices of an BST\n",
    "    def __init__(self, data):\n",
    "        self.data = data\n",
    "        self.left_child = None # Smaller than the root\n",
    "        self.right_child = None # Bigger than the root\n",
    "        \n",
    "\n",
    "class BinarySearchTree:\n",
    "    \n",
    "    def __init__(self):\n",
    "        self.root = None\n",
    "        \n",
    "    def insert(self, data):\n",
    "        if not self.root:\n",
    "            self.root = Node(data)\n",
    "        else:\n",
    "            self.insert_node(data, self.root)\n",
    "                \n",
    "    # O(log N) -> If tree is balanced\n",
    "    def insert_node(self, data, node):\n",
    "        if data < node.data:\n",
    "            if node.left_child:\n",
    "                self.insert_node(data, node.left_child)\n",
    "            else:\n",
    "                node.left_child = Node(data)\n",
    "        else:\n",
    "            if node.right_child:\n",
    "                self.insert_node(data, node.right_child)\n",
    "            else:\n",
    "                node.right_child = Node(data)\n",
    "                \n",
    "    def get_min_value(self):\n",
    "        if self.root:\n",
    "            return self.get_min(self.root)\n",
    "        \n",
    "    def get_min(self, node):\n",
    "        if node.left_child:\n",
    "            return self.get_min(node.left_child)\n",
    "        return node.data\n",
    "    \n",
    "    def get_max_value(self):\n",
    "        if self.root:\n",
    "            return self.get_max(self.root)\n",
    "        \n",
    "    def get_max(self, node):\n",
    "        if node.right_child:\n",
    "            return self.get_max(node.right_child)\n",
    "        return node.data\n",
    "    \n",
    "    def traverse(self):\n",
    "        if self.root:\n",
    "            self.traverse_in_order(self.root)\n",
    "            \n",
    "    def traverse_in_order(self, node):\n",
    "        if node.left_child:\n",
    "            self.traverse_in_order(node.left_child)\n",
    "            \n",
    "        print(f'{node.data}')\n",
    "        \n",
    "        if node.right_child:\n",
    "            self.traverse_in_order(node.right_child)\n",
    "            \n",
    "    def remove(self, data):\n",
    "        if self.root:\n",
    "            return self.remove_node(data, self.root)\n",
    "        \n",
    "    def remove_node(self, data, node):\n",
    "        if not node:\n",
    "            return node;\n",
    "        if data < node.data:\n",
    "            node.left_child = self.remove_node(data, node.left_child)\n",
    "        elif data > node.data:\n",
    "            node.right_child = self.remove_node(data, node.right_child)\n",
    "        else:\n",
    "            if not node.left_child and not node.right_child:\n",
    "                print(\"Removing a leaf node...\")\n",
    "                del node\n",
    "                return None\n",
    "            if not node.left_child:\n",
    "                print(\"Removing a node with single right child\")\n",
    "                temp_node = node.right_child\n",
    "                del node\n",
    "                return temp_node\n",
    "            elif not node.right_child:\n",
    "                print(\"Removing a node with single left child\")\n",
    "                temp_node = node.left_child\n",
    "                del node\n",
    "                return temp_node\n",
    "            \n",
    "            print(\"Removing node with two children...\")\n",
    "            temp_node = self.get_predecessor(node.left_child)\n",
    "            node.data = temp_node.data\n",
    "            node.left_child = self.remove_node(temp_node.data, node.left_child)\n",
    "        return node\n",
    "    \n",
    "    def get_predecessor(self, node):\n",
    "        if node.right_child:\n",
    "            return self.get_predecessor(node.right_child)\n",
    "        \n",
    "        return node"
   ]
  },
  {
   "cell_type": "code",
   "execution_count": 78,
   "metadata": {},
   "outputs": [],
   "source": [
    "BST = BinarySearchTree()"
   ]
  },
  {
   "cell_type": "code",
   "execution_count": 79,
   "metadata": {},
   "outputs": [],
   "source": [
    "nodes = [4, 2, -1, 8, 7, 5, 10, 9]\n",
    "for node in nodes:\n",
    "    BST.insert(node)"
   ]
  },
  {
   "cell_type": "code",
   "execution_count": 84,
   "metadata": {},
   "outputs": [
    {
     "name": "stdout",
     "output_type": "stream",
     "text": [
      "-1\n",
      "5\n",
      "7\n",
      "8\n",
      "9\n"
     ]
    }
   ],
   "source": [
    "BST.traverse()"
   ]
  },
  {
   "cell_type": "code",
   "execution_count": 73,
   "metadata": {},
   "outputs": [
    {
     "name": "stdout",
     "output_type": "stream",
     "text": [
      "-1\n"
     ]
    }
   ],
   "source": [
    "print(BST.get_min_value())"
   ]
  },
  {
   "cell_type": "code",
   "execution_count": 74,
   "metadata": {},
   "outputs": [
    {
     "name": "stdout",
     "output_type": "stream",
     "text": [
      "10\n"
     ]
    }
   ],
   "source": [
    "print(BST.get_max_value())"
   ]
  },
  {
   "cell_type": "code",
   "execution_count": 83,
   "metadata": {},
   "outputs": [
    {
     "name": "stdout",
     "output_type": "stream",
     "text": [
      "Removing node with two children...\n",
      "Removing a leaf node...\n"
     ]
    },
    {
     "data": {
      "text/plain": [
       "<__main__.Node at 0x7f91845f6150>"
      ]
     },
     "execution_count": 83,
     "metadata": {},
     "output_type": "execute_result"
    }
   ],
   "source": [
    "BST.remove(4)"
   ]
  },
  {
   "cell_type": "code",
   "execution_count": 19,
   "metadata": {},
   "outputs": [],
   "source": [
    "Alpha_BST = BinarySearchTree()"
   ]
  },
  {
   "cell_type": "code",
   "execution_count": 20,
   "metadata": {},
   "outputs": [],
   "source": [
    "Alpha_BST.insert(\"A\")\n",
    "Alpha_BST.insert(\"a\")\n",
    "Alpha_BST.insert(\"B\")\n",
    "Alpha_BST.insert(\"d\")\n",
    "Alpha_BST.insert(\"f\")\n",
    "Alpha_BST.insert(\"Z\")\n"
   ]
  },
  {
   "cell_type": "code",
   "execution_count": 21,
   "metadata": {},
   "outputs": [
    {
     "name": "stdout",
     "output_type": "stream",
     "text": [
      "A\n",
      "B\n",
      "Z\n",
      "a\n",
      "d\n",
      "f\n"
     ]
    }
   ],
   "source": [
    "Alpha_BST.traverse()"
   ]
  },
  {
   "cell_type": "code",
   "execution_count": null,
   "metadata": {},
   "outputs": [],
   "source": []
  }
 ],
 "metadata": {
  "kernelspec": {
   "display_name": "Python 3",
   "language": "python",
   "name": "python3"
  },
  "language_info": {
   "codemirror_mode": {
    "name": "ipython",
    "version": 3
   },
   "file_extension": ".py",
   "mimetype": "text/x-python",
   "name": "python",
   "nbconvert_exporter": "python",
   "pygments_lexer": "ipython3",
   "version": "3.7.4"
  }
 },
 "nbformat": 4,
 "nbformat_minor": 2
}
