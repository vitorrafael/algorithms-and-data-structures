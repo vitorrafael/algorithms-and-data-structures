{
 "cells": [
  {
   "cell_type": "markdown",
   "metadata": {},
   "source": [
    "\n",
    "# Ternary Search Trees\n",
    "\n",
    "- Every node can have 3 children;\n",
    "    * Less -> Left Child;\n",
    "    * Equal -> Middle Child;\n",
    "    * Greater -> Right Child;\n",
    "- They are defined using the alphabet;\n",
    "- Supports sorting operations;\n",
    "- TST is better than hashing, especially for search misses and is more flexible than BST;\n",
    "- **CONCLUSION**: Faster than hashmaps and more flexibe.\n",
    "\n",
    "## Operations:\n",
    "   - **Put**: With this operation we insert a new element into the TST with a given key;\n",
    "       * If the character is **smaller** alphabetically: goes to the left;\n",
    "       * If the character is **equal** alphabetically: goes to the center;\n",
    "       * If the character is **greater** alphabetically: goes to the right;\n",
    "       * If it is balanced -> **O(logN)**; \n",
    "       * Worst case -> **O(N)**;\n",
    "   - **Get**: Get an item from the ternary search tree with a given key;\n",
    "       * _Hashmap_: Generate an index from the key with the hashfunction, using every character of the key;\n",
    "       * _TST_: No value with a given key without considering every character\n",
    "       * _**Conclusion**_: TST is faster;\n",
    "       * If there is no determined child, it means that there is no value with key \"X\". after checking the first character we are sure there is no value with this key -> _**OUTPERFORMS HASHMAPS**_\n",
    " \n",
    "### Important Notes:\n",
    "  - We should combine tries with TST;\n",
    "  - At the root: it is a trie with many children;\n",
    "  - At lower levels it becomes a TST with 3 children only;\n",
    "  - This combination is efficient;\n",
    "\n",
    "## TST X Hashing\n",
    "  * **Hashing**:\n",
    "      - Need to examine the entire key ( Hash need );\n",
    "      - Search hits and misses cost the same;\n",
    "      - Running time and performance relies heavily on the hashfunction;\n",
    "      - Does not support as many operations as TSTs ( sorting ).\n",
    "  * **TST**:\n",
    "      - Works only for strings;\n",
    "      - Only exams just enough key characters;\n",
    "      - Search miss may only involve a few characters;\n",
    "      - Supports sorting;\n",
    "      - Faster than hashing and more flexible than BST;\n",
    "\n",
    "## Applications:\n",
    "   - Auto-complete feature;\n",
    "   - Spell-checkers;\n",
    "   - Near-neighbor searching;\n",
    "   - Databases when indexing by several non-key fields as desirable;\n",
    "   - Package routing on WWW\n",
    "   - Prefix matching -> Google Search"
   ]
  },
  {
   "cell_type": "markdown",
   "metadata": {},
   "source": [
    "# Implementation"
   ]
  },
  {
   "cell_type": "code",
   "execution_count": 1,
   "metadata": {},
   "outputs": [],
   "source": [
    "class Node:\n",
    "    \n",
    "    def __init__(self, char):\n",
    "        self.char = char\n",
    "        self.left_node = None\n",
    "        self.middle_node = None\n",
    "        self.right_node = None\n",
    "        self.value = 0"
   ]
  },
  {
   "cell_type": "code",
   "execution_count": 8,
   "metadata": {},
   "outputs": [],
   "source": [
    "class TernarySearchTree:\n",
    "    \n",
    "    def __init__(self):\n",
    "        self.root_node = None\n",
    "        \n",
    "    def put(self, key, value):\n",
    "        self.root_node = self.put_item(self.root_node, key, value, 0)\n",
    "        \n",
    "    def put_item(self, node, key, value, index):\n",
    "        char = key[index]\n",
    "        \n",
    "        if node is None:\n",
    "            node = Node(char)\n",
    "            \n",
    "        if char < node.char:\n",
    "            node.left_node = self.put_item(node.left_node, key, value, index)\n",
    "        elif char > node.char:\n",
    "            node.right_node = self.put_item(node.right_node, key, value, index)\n",
    "        elif index < len(key) - 1:\n",
    "            node.middle_node = self.put_item(node.middle_node, key, value, index + 1)\n",
    "        else:\n",
    "            node.value = value\n",
    "        return node\n",
    "    \n",
    "    def get(self, key):\n",
    "        \n",
    "        node = self.get_item(self.root_node, key, 0)\n",
    "        \n",
    "        if node is None:\n",
    "            return -1\n",
    "        \n",
    "        return node.value\n",
    "    \n",
    "    def get_item(self, node, key, index):\n",
    "        \n",
    "        if node is None:\n",
    "            return None\n",
    "        \n",
    "        char = key[index]\n",
    "        \n",
    "        if char < node.char:\n",
    "            return self.get_item(node.left_node, key, index)\n",
    "        elif char > node.char:\n",
    "            return self.get_item(node.right_node, key, index)\n",
    "        elif index < len(key) - 1:\n",
    "            return self.get_item(node.middle_node, key, index + 1 )\n",
    "        else:\n",
    "            return node"
   ]
  },
  {
   "cell_type": "code",
   "execution_count": 16,
   "metadata": {
    "scrolled": true
   },
   "outputs": [
    {
     "name": "stdout",
     "output_type": "stream",
     "text": [
      "9999\n"
     ]
    }
   ],
   "source": [
    "tree = TernarySearchTree()\n",
    "\n",
    "tree.put(\"apple\", 100)\n",
    "tree.put(\"orange\", 200)\n",
    "tree.put(\"vitor\", 9999)\n",
    "print(tree.get(\"vitor\"))"
   ]
  },
  {
   "cell_type": "code",
   "execution_count": null,
   "metadata": {},
   "outputs": [],
   "source": []
  },
  {
   "cell_type": "code",
   "execution_count": null,
   "metadata": {},
   "outputs": [],
   "source": []
  }
 ],
 "metadata": {
  "kernelspec": {
   "display_name": "Python 3",
   "language": "python",
   "name": "python3"
  },
  "language_info": {
   "codemirror_mode": {
    "name": "ipython",
    "version": 3
   },
   "file_extension": ".py",
   "mimetype": "text/x-python",
   "name": "python",
   "nbconvert_exporter": "python",
   "pygments_lexer": "ipython3",
   "version": "3.7.4"
  }
 },
 "nbformat": 4,
 "nbformat_minor": 2
}
