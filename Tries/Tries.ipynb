{
 "cells": [
  {
   "cell_type": "markdown",
   "metadata": {},
   "source": [
    "# Tries\n",
    "\n",
    "- _**Searching**_ and _**sorting**_ are very efficient;\n",
    "- **Problem**: Consumes a lot of memory, ternary search trees store less references and null objects;\n",
    "- TST stores characters or strings in nodes;\n",
    "- Each node has 3 children -> Ternary Search Trees:\n",
    "    * Less -> Left Child;\n",
    "    * Equal -> Middle Child;\n",
    "    * Greater -> Right Child;\n",
    "- TSTs can be balanced with rotations, but it's not worth it;\n",
    "- Can be used instead of hashmaps -> It is as efficient as hashing;\n",
    "- Hashing need to examine the entire string key, TST doesn't\n",
    "\n",
    "- In general, we can have as many pointers/edges from every node as the number of characters in the alphabet;\n",
    "- We have to define an alphabet in advange, and its size;\n",
    "\n",
    "# Ternary Search Trees\n",
    "\n",
    "- Every node can have 3 children;\n",
    "    * Less -> Left Child;\n",
    "    * Equal -> Middle Child;\n",
    "    * Greater -> Right Child;\n",
    "- They are defined using the alphabet;\n",
    "- Supports sorting operations;\n",
    "- TST is better than hashing, especially for search misses and is more flexible than BST;\n",
    "- **CONCLUSION**: Faster than hashmaps and more flexibe.\n",
    "\n",
    "## Operations:\n",
    "   - **Put**: With this operation we insert a new element into the TST with a given key;\n",
    "       * If the character is **smaller** alphabetically: goes to the left;\n",
    "       * If the character is **equal** alphabetically: goes to the center;\n",
    "       * If the character is **greater** alphabetically: goes to the right;\n",
    "       * If it is balanced -> **O(logN)**; \n",
    "       * Worst case -> **O(N)**;"
   ]
  },
  {
   "cell_type": "markdown",
   "metadata": {},
   "source": [
    "# Implementation"
   ]
  },
  {
   "cell_type": "code",
   "execution_count": 1,
   "metadata": {},
   "outputs": [],
   "source": [
    "class Node:\n",
    "    def __init__(self, char):\n",
    "        self.char = char\n",
    "        self.children = {}\n",
    "        self.word_finished = False\n",
    "        self.counter = 0"
   ]
  },
  {
   "cell_type": "code",
   "execution_count": 4,
   "metadata": {},
   "outputs": [],
   "source": [
    "class Trie:\n",
    "    def __init__(self):\n",
    "        self.root = Node(\"*\") # To make the node empty\n",
    "        \n",
    "    def insert(self, word):\n",
    "        current = self.root\n",
    "        for char in word:\n",
    "            if char in current.children:\n",
    "                current = current.children[char]\n",
    "                current.counter += 1\n",
    "            else:\n",
    "                new_node = Node(char)\n",
    "                current.children[char] = new_node\n",
    "                current = new_node\n",
    "                current.counter += 1\n",
    "            \n",
    "        current.word_finished = True\n",
    "        \n",
    "    def search(self, word):\n",
    "        if not self.root.children:\n",
    "            return False\n",
    "        current = self.root\n",
    "        for char in word:\n",
    "            if char in current.children:\n",
    "                current = current.children[char]\n",
    "            else:\n",
    "                return False\n",
    "        if current.word_finished:\n",
    "            return True\n",
    "        return False"
   ]
  },
  {
   "cell_type": "code",
   "execution_count": 5,
   "metadata": {},
   "outputs": [
    {
     "name": "stdout",
     "output_type": "stream",
     "text": [
      "True\n",
      "True\n",
      "True\n",
      "False\n",
      "True\n"
     ]
    }
   ],
   "source": [
    "tree = Trie()\n",
    "tree.insert('bat')\n",
    "tree.insert('hackathon')\n",
    "tree.insert('hack')\n",
    "tree.insert('hac')\n",
    "\n",
    "print(tree.search(\"hac\"))\n",
    "print(tree.search(\"hack\"))\n",
    "print(tree.search(\"hackathon\"))\n",
    "print(tree.search(\"ha\"))\n",
    "print(tree.search(\"bat\"))"
   ]
  },
  {
   "cell_type": "code",
   "execution_count": null,
   "metadata": {},
   "outputs": [],
   "source": []
  }
 ],
 "metadata": {
  "kernelspec": {
   "display_name": "Python 3",
   "language": "python",
   "name": "python3"
  },
  "language_info": {
   "codemirror_mode": {
    "name": "ipython",
    "version": 3
   },
   "file_extension": ".py",
   "mimetype": "text/x-python",
   "name": "python",
   "nbconvert_exporter": "python",
   "pygments_lexer": "ipython3",
   "version": "3.7.4"
  }
 },
 "nbformat": 4,
 "nbformat_minor": 2
}
