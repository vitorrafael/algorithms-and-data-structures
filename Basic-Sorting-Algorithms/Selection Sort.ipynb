{
 "cells": [
  {
   "cell_type": "markdown",
   "metadata": {},
   "source": [
    "# Selection Sort\n",
    "   * **O(N²)** Time Complexity;\n",
    "   * Simple and it has performance advantages over more complicated algorithms;\n",
    "   * Useful when auxiliary memory is limited;\n",
    "   * **In-Place Algorithm**;\n",
    "   * Divides the input list into two parts:\n",
    "       - Subarray of items already sorted;\n",
    "       - Subarray of items to be sorted;\n",
    "    * Finds the smallestes element in the unsorted subarray;\n",
    "    * Swap it with the leftmost unsorted element -> Putting it in sorted order;\n",
    "    * Moves the subarray boundaries one element to the right;\n",
    "    * Outperforms bubble sort;\n",
    "    * Unstable sort;\n",
    "    * Quite counter-intuitive: selection sort and insertion sort are both typically faster for small arrays;\n",
    "    * Usual optimization method -> recursive algorithms switch to insertion sort or selection sort for small subarrays;\n",
    "    * Makes less writes than insertion sort;\n",
    "    * Pseudocode:\n",
    "    ``` pseudocode\n",
    "    selectionSort(array)\n",
    "        for i in range array.length -1 \n",
    "            index = i\n",
    "            for j from i+i to array.length\n",
    "                if array[j] < array[index]\n",
    "                    index = j\n",
    "            if index not i\n",
    "                swap(array, index, i)    \n",
    "                ```\n",
    "\n",
    "# Implementation"
   ]
  },
  {
   "cell_type": "code",
   "execution_count": 4,
   "metadata": {},
   "outputs": [],
   "source": [
    "def selection_sort(nums):\n",
    "    \n",
    "    for i in range(len(nums) - 1 ):\n",
    "        \n",
    "        index = i\n",
    "        \n",
    "        for j in range(i+1, len(nums), 1):\n",
    "            if nums[j] < nums[i]:\n",
    "                index = j\n",
    "        if index != i:\n",
    "            swap(nums, index, i)\n",
    "    \n",
    "    return nums\n",
    "def swap(nums, i, j):\n",
    "    nums[i], nums[j] = nums[j], nums[i]"
   ]
  },
  {
   "cell_type": "code",
   "execution_count": 8,
   "metadata": {},
   "outputs": [
    {
     "name": "stdout",
     "output_type": "stream",
     "text": [
      "[0, 1, 2, 5, 6, 7, 8, 8]\n"
     ]
    }
   ],
   "source": [
    "nums = [5, 2, 1, 7, 6, 8, 8, 0]\n",
    "print(selection_sort(nums))"
   ]
  },
  {
   "cell_type": "code",
   "execution_count": null,
   "metadata": {},
   "outputs": [],
   "source": []
  }
 ],
 "metadata": {
  "kernelspec": {
   "display_name": "Python 3",
   "language": "python",
   "name": "python3"
  },
  "language_info": {
   "codemirror_mode": {
    "name": "ipython",
    "version": 3
   },
   "file_extension": ".py",
   "mimetype": "text/x-python",
   "name": "python",
   "nbconvert_exporter": "python",
   "pygments_lexer": "ipython3",
   "version": "3.7.4"
  }
 },
 "nbformat": 4,
 "nbformat_minor": 2
}
