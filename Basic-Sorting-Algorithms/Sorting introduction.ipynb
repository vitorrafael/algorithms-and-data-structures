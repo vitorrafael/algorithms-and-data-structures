{
 "cells": [
  {
   "cell_type": "markdown",
   "metadata": {},
   "source": [
    "# Sorting\n",
    "\n",
    "   * Puts elements of an array in a certain order;\n",
    "   * **Integer** -> Numerical ordering\n",
    "   * **String, characters** -> Alphabetical ordering\n",
    "   * Two types:\n",
    "       * Comparision Based Algorithms:\n",
    "           - Bubble sort;\n",
    "           - Insertion sort;\n",
    "           - Selection sort;\n",
    "           - Merge sort;\n",
    "           - Quick sort;\n",
    "       * Non-comparision Based Algorithms:\n",
    "           - Radix sort;\n",
    "           - Bucket sort;\n",
    "   * Features:\n",
    "       - **Time Complexities:**\n",
    "           - **O(N²)**\n",
    "           - **O(N logN)**\n",
    "           - **O(N)\n",
    "       - Can be:\n",
    "           - **In place**: Only needs O(1) memory beyond the items being sorted. Does not need extra memory -> **MEMORY EFFICIENT**;\n",
    "               - *Quicksort*.\n",
    "           - **Recursive**: Divide and conquer;\n",
    "           - **Stable**: Maintain the relative order of records with equal values;\n",
    "               - *Merge sort*.\n",
    "\n",
    "## Lower Bound:\n",
    "   * For sorting **N** items we have to make **logN!** comparisions;\n",
    "   * With Stringling-formula it can be reduced to **N logN*:\n",
    "       - The **Ω(N logN)** time complexity is the lower bound for **_comparision based_** sorting algorithms;\n",
    "       - We can achieve **O(N)** running time with bucker sort or radix sort, but these are not comparison based algorithms;\n",
    "       \n",
    "## Adaptive Algorithms:\n",
    "   * Is an algorithm that chances its behavior based on information available at runtime;\n",
    "   * **Adaptative Sort:** Takes advantage of existing order in its input;\n",
    "   * Benefits from local orders -> sometimes an unsorted array contains sequences that are sorted by default **->** Faster Algorithm;\n",
    "   * Most of time: we just have to modify existing sorting algorithms in order to end up with an adaptative one\n",
    "   * **The more presorted the input is, the faster it is sorted;**\n",
    "   * It is commom to have nearly sorted sequences;\n",
    "   * Heapsort, merge sort **->** Not Adaptive Algoritms;\n",
    "   * Shell sort **->** Adaptive Algorithm;"
   ]
  },
  {
   "cell_type": "code",
   "execution_count": null,
   "metadata": {},
   "outputs": [],
   "source": []
  }
 ],
 "metadata": {
  "kernelspec": {
   "display_name": "Python 3",
   "language": "python",
   "name": "python3"
  },
  "language_info": {
   "codemirror_mode": {
    "name": "ipython",
    "version": 3
   },
   "file_extension": ".py",
   "mimetype": "text/x-python",
   "name": "python",
   "nbconvert_exporter": "python",
   "pygments_lexer": "ipython3",
   "version": "3.7.4"
  }
 },
 "nbformat": 4,
 "nbformat_minor": 2
}
