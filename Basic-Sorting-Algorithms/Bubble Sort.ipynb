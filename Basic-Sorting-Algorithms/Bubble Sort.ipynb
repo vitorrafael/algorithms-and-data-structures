{
 "cells": [
  {
   "cell_type": "markdown",
   "metadata": {},
   "source": [
    "# Bubble Sort\n",
    "\n",
    "   * Repeteadly steps through the list to be sorted comparing each pair of adjacent items and swaps them if they are in the wrong order;\n",
    "   * Too slow and impractical;\n",
    "   * Worst-case and average complexity: **O(N²)**\n",
    "   * It is not a practical sorting algorithm;\n",
    "   * It will not be efficient in the case of a reverse-ordered collection;\n",
    "   * **Stable Sorting Algorithm;**\n",
    "   * **In-Place;**\n",
    "   * It is popular for its capability to detect very small errors in almost-sorted arrays and fix it in **O(N)**\n",
    "   * **Pseudocode:**\n",
    "   ``` pseudocode\n",
    "       bubblesort(array)\n",
    "           for i in range array.length - 1\n",
    "               for j in range array.lenght-1-i\n",
    "                   if array[j] > array[j+1]\n",
    "                       swap(array, j, j+1)\n",
    "```\n",
    "   * On every iteration we bubble up the **largest item;**\n",
    "   \n",
    "## Implementation"
   ]
  },
  {
   "cell_type": "code",
   "execution_count": 1,
   "metadata": {},
   "outputs": [],
   "source": [
    "def bubble_sort(nums):\n",
    "    \n",
    "    for i in range(len(nums) - 1):\n",
    "        for j in range(0, len(nums)-1-i, 1):\n",
    "            if nums[j] > nums[j+1]:\n",
    "                swap(nums, j, j+1)\n",
    "\n",
    "    return nums\n",
    "\n",
    "def swap(nums, i, j):\n",
    "    nums[i], nums[j] = nums[j], nums[i]"
   ]
  },
  {
   "cell_type": "code",
   "execution_count": 6,
   "metadata": {},
   "outputs": [
    {
     "name": "stdout",
     "output_type": "stream",
     "text": [
      "[1, 5, 3, 2, 4, 8, 7]\n",
      "[1, 2, 3, 4, 5, 7, 8]\n"
     ]
    }
   ],
   "source": [
    "unsorted = [1, 5, 3, 2, 4, 8, 7]\n",
    "print(unsorted)\n",
    "sorted = bubble_sort(unsorted)\n",
    "print(sorted)"
   ]
  },
  {
   "cell_type": "code",
   "execution_count": null,
   "metadata": {},
   "outputs": [],
   "source": [
    "from random import shuffle\n",
    "from time import time\n",
    "\n",
    "a = [int(i) for i in range(100000)]\n",
    "shuffle(a)\n",
    "x = time()\n",
    "sorted = bubble_sort(a)\n",
    "y = time()\n",
    "print(y - x)"
   ]
  },
  {
   "cell_type": "code",
   "execution_count": null,
   "metadata": {},
   "outputs": [],
   "source": []
  }
 ],
 "metadata": {
  "kernelspec": {
   "display_name": "Python 3",
   "language": "python",
   "name": "python3"
  },
  "language_info": {
   "codemirror_mode": {
    "name": "ipython",
    "version": 3
   },
   "file_extension": ".py",
   "mimetype": "text/x-python",
   "name": "python",
   "nbconvert_exporter": "python",
   "pygments_lexer": "ipython3",
   "version": "3.7.4"
  }
 },
 "nbformat": 4,
 "nbformat_minor": 2
}
