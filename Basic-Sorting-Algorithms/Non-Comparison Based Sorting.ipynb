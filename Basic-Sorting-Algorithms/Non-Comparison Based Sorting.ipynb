{
 "cells": [
  {
   "cell_type": "markdown",
   "metadata": {},
   "source": [
    "# Non-Comparison Based Sorting\n",
    "   - Comparison based takes at least log2 n! comparison to sort an array;\n",
    "   - Comparisons cannot be any better than **O(N logN);**\n",
    "   - **Non-Comparison Based -> Bucket Sort, Counting Sort**\n",
    "   \n",
    "## Counting Sort\n",
    "   - Operates by counting the number of objects that have each distinct key value;\n",
    "   - We assume the values to be **integers;**\n",
    "   - Using arithmetic on those counts to determine the postions of each key value in the output sequence;\n",
    "   - Suitable for direct use in situations where the variation in keys is not significantly greater than the number of items;\n",
    "   - It can be used as a subroutine in **radix sort;**\n",
    "   - **Running Time: O(N+k)**\n",
    "   - N -> Number of items to be sorted;\n",
    "   - k -> Difference between the maximum and the minimum key values;\n",
    "   - More recommend when the variation if not greater than the number of items;\n",
    "   - **Proccess:**\n",
    "       1. Iterate through the original array **O(N)**\n",
    "       2. The value in the array will be the index of the temporary array. We increment the counter there\n",
    "       3. Traverse the array of counters and print out the values **O(K)**\n",
    "       4. Yields the numerical ordering\n",
    "   - **Pseudocode:**\n",
    "   \n",
    "   ``` pseudocode\n",
    "   \n",
    "   counting_sort(array, max, min)\n",
    "       count_array = new array with size[max-min+1]\n",
    "       \n",
    "       for i in array\n",
    "           increment count_array[i-min]\n",
    "       \n",
    "       z = 0\n",
    "       for i in array\n",
    "           while count_array[i-min] > 0\n",
    "               array[z] = i\n",
    "               z = z + 1\n",
    "               count_array[i-min] = count_array[i-min] - 1\n",
    "    ```"
   ]
  },
  {
   "cell_type": "code",
   "execution_count": 5,
   "metadata": {},
   "outputs": [],
   "source": [
    "def counting_sort(array):\n",
    "    maxv = max(array)\n",
    "    minv = min(array)\n",
    "    \n",
    "    count_array = [0] * (maxv - minv + 1)\n",
    "    \n",
    "    for i in range(len(array)):\n",
    "        count_array[i - minv] += 1\n",
    "        \n",
    "    z = 0\n",
    "    for i in range(len(array)):\n",
    "        while count_array[i - minv] > 0:\n",
    "            array[z] = i\n",
    "            z += 1\n",
    "            count_array[i-minv] = count_array[i-minv] - 1"
   ]
  },
  {
   "cell_type": "code",
   "execution_count": 6,
   "metadata": {},
   "outputs": [
    {
     "name": "stdout",
     "output_type": "stream",
     "text": [
      "[0, 1, 2, 3, 4, 5]\n"
     ]
    }
   ],
   "source": [
    "nums = [2, 5, 4, -1, 0, 1]\n",
    "counting_sort(nums)\n",
    "print(nums)"
   ]
  },
  {
   "cell_type": "markdown",
   "metadata": {},
   "source": [
    "## Radix Sort\n",
    "\n",
    "   - **Running Time: O(k\\*N)** where **k** is the number of digits in the input number;\n",
    "   - Stable sorting algorithm;\n",
    "   \n",
    "   * **LSR String Sorting**\n",
    "       - Least-Significant-Digit-First string sort;\n",
    "       - Consider characters from right to left\n",
    "       - Can be used to fix length strings or length numbers for example integers;\n",
    "       - Sort the characters at the last column then keep going left and sort the columns independently;\n",
    "       - Typical interview question: **How to sort one million 32-bit integers;**\n",
    "\n",
    "   * **MSD String Sorting**\n",
    "       - Most-Significant-Digit-Fist String Sorting;\n",
    "       - Considers characters from left to right;\n",
    "       - Sensitive to **ASCII** and **Unicode** representations;\n",
    "       - Several advantages:\n",
    "           * MSD examines just enough characters to sort the key;\n",
    "           * Can be sublinear in input size;\n",
    "       - Access memory randomly;\n",
    "       - We should combine it with quicksort **->** 3-way Radix Quicksort;\n",
    " "
   ]
  },
  {
   "cell_type": "code",
   "execution_count": null,
   "metadata": {},
   "outputs": [],
   "source": []
  }
 ],
 "metadata": {
  "kernelspec": {
   "display_name": "Python 3",
   "language": "python",
   "name": "python3"
  },
  "language_info": {
   "codemirror_mode": {
    "name": "ipython",
    "version": 3
   },
   "file_extension": ".py",
   "mimetype": "text/x-python",
   "name": "python",
   "nbconvert_exporter": "python",
   "pygments_lexer": "ipython3",
   "version": "3.7.4"
  }
 },
 "nbformat": 4,
 "nbformat_minor": 2
}
