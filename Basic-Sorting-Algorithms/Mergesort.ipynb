{
 "cells": [
  {
   "cell_type": "markdown",
   "metadata": {},
   "source": [
    "# Mergesort\n",
    "\n",
    "   - **Divide and Conquer** algorithm invented by John von Neumann in 1945;\n",
    "   - **Comparison Based;**\n",
    "   - **Running Time Complexity: O(N logN);**\n",
    "   - Stable algorithm;\n",
    "   - Not an In-Place algorithm;\n",
    "       * Merge Sort requires O(N) auxiliary space;\n",
    "   - Outperformed by efficient quicksort implementations;\n",
    "   - Often the best choice for a linked list;\n",
    "   - How does it work?\n",
    "       1. Divide the array into two subarrays recursively;\n",
    "       2. Sort these subarrays recursively with mergesort again;\n",
    "       3. IF there is only a single item -> It is sorted by defition;\n",
    "       4. Merge the subarrays in order to get the final sorted array;\n",
    "       * **The Conquer Part:**\n",
    "           - Compares each value of the subarrays;\n",
    "           - When removing an item from one subarray, increase its counter;\n",
    "   - **Pseudocode:**\n",
    "   ``` pseudocode\n",
    "   \n",
    "   \n",
    "    mergesort(low, high)\n",
    "        if low >= return\n",
    "       \n",
    "        middle = (low+high)/2\n",
    "       \n",
    "        mergesort(low, middle)\n",
    "        mergesort(middle + 1, high)\n",
    "        merge(low, middle, high)\n",
    "       \n",
    "\n",
    "    merge(low, middle, high)\n",
    "        \n",
    "        for i=low to high]\n",
    "            temparray[i] = nums[i]\n",
    "            \n",
    "        i = low\n",
    "        j = middle + 1\n",
    "        k = low\n",
    "            \n",
    "        while i <= middle && j <= high\n",
    "            if temparray[i] <= temparray[j]\n",
    "                nums[k] = temparray[i]\n",
    "                i++\n",
    "            else\n",
    "                nums[k] = temparray[j]\n",
    "                j++\n",
    "                \n",
    "            while i <= middle\n",
    "                nums[k] = temparray[i]\n",
    "                k++\n",
    "                i++\n",
    "            \n",
    "            while j <= high\n",
    "                nums[k] = temparray[j]\n",
    "                k++\n",
    "                j++\n"
   ]
  },
  {
   "cell_type": "code",
   "execution_count": 5,
   "metadata": {},
   "outputs": [],
   "source": [
    "def merge_sort(nums):\n",
    "    \n",
    "    if len(nums) == 1:\n",
    "        return\n",
    "    \n",
    "    middle_index = len(nums) // 2\n",
    "    left_half = nums[middle_index:]\n",
    "    right_half = nums[:middle_index]\n",
    "    \n",
    "    merge_sort(left_half)\n",
    "    merge_sort(right_half)\n",
    "    \n",
    "    i = 0\n",
    "    j = 0\n",
    "    k = 0\n",
    "    \n",
    "    while i < len(left_half) and j < len(right_half):\n",
    "        if left_half[i] < right_half[j]:\n",
    "            nums[k] = left_half[i]\n",
    "            i += 1\n",
    "        else:\n",
    "            nums[k] = right_half[j]\n",
    "            j += 1\n",
    "        k += 1\n",
    "        \n",
    "    while i < len(left_half):\n",
    "        nums[k] = left_half[i]\n",
    "        k += 1\n",
    "        i += 1\n",
    "\n",
    "    while j < len(right_half):\n",
    "        nums[k] = right_half[j]\n",
    "        k += 1\n",
    "        j += 1"
   ]
  },
  {
   "cell_type": "code",
   "execution_count": 6,
   "metadata": {},
   "outputs": [
    {
     "name": "stdout",
     "output_type": "stream",
     "text": [
      "[-1, 0, 1, 2, 4, 5]\n"
     ]
    }
   ],
   "source": [
    "nums = [2, 5, 4, -1, 0, 1]\n",
    "merge_sort(nums)\n",
    "print(nums)\n"
   ]
  },
  {
   "cell_type": "code",
   "execution_count": null,
   "metadata": {},
   "outputs": [],
   "source": []
  }
 ],
 "metadata": {
  "kernelspec": {
   "display_name": "Python 3",
   "language": "python",
   "name": "python3"
  },
  "language_info": {
   "codemirror_mode": {
    "name": "ipython",
    "version": 3
   },
   "file_extension": ".py",
   "mimetype": "text/x-python",
   "name": "python",
   "nbconvert_exporter": "python",
   "pygments_lexer": "ipython3",
   "version": "3.7.4"
  }
 },
 "nbformat": 4,
 "nbformat_minor": 2
}
