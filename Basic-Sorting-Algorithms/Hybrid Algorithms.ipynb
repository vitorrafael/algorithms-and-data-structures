{
 "cells": [
  {
   "cell_type": "markdown",
   "metadata": {},
   "source": [
    "# Hybrid Algorithms\n",
    "\n",
    "   - Combines more algorithms to solve a given problem;\n",
    "   - Choses one algorithms depending on the data or switching between them over the course of the algorithm;\n",
    "   - This is generally done to combine desired features of each, so that the overall algorithm is better than the individual components;\n",
    "   - Combines multiple algorithms that solve the problem but differ in other characteristics;\n",
    "   - Can be used when sorting;\n",
    "   - Example:\n",
    "       * **Heapsort** -> Guaranteed **O(N logN);**\n",
    "       * **Quicksort** -> Outperforms both mergesort and heaphsort but can be quadratic;\n",
    "       * Combining both -> **INTROSORT;**\n",
    "\n",
    "## Introsort\n",
    "   - Combination of **Heapsort** and **Quicksort;**\n",
    "   - It begins with quicksort and switcher to heapsort when quicksort becomes too slow;\n",
    "\n",
    "## Timsort\n",
    "   - Combination of **Insertion sort** and **Mergesort;**\n",
    "   - Highly optimized hybrid algorithm;\n",
    "   - Implemented by Tim Peters in 2002 for use in the **Python**;\n",
    "   - **Best case running time: O(N)**\n",
    "   - **Worst case running time: O(N logN)**\n",
    "   - **Worst case space complexity: O(N)**"
   ]
  },
  {
   "cell_type": "code",
   "execution_count": null,
   "metadata": {},
   "outputs": [],
   "source": []
  }
 ],
 "metadata": {
  "kernelspec": {
   "display_name": "Python 3",
   "language": "python",
   "name": "python3"
  },
  "language_info": {
   "codemirror_mode": {
    "name": "ipython",
    "version": 3
   },
   "file_extension": ".py",
   "mimetype": "text/x-python",
   "name": "python",
   "nbconvert_exporter": "python",
   "pygments_lexer": "ipython3",
   "version": "3.7.4"
  }
 },
 "nbformat": 4,
 "nbformat_minor": 2
}
