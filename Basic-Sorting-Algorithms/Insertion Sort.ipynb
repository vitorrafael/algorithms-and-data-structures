{
 "cells": [
  {
   "cell_type": "markdown",
   "metadata": {},
   "source": [
    "# Insertion Sort\n",
    "   * Build the final sorted array one item at a time;\n",
    "   * **Time Complexity: O(N²)**;\n",
    "   * On large datasets it is very inefficient but on arrays with 10-20 items is quite good;\n",
    "   * **Simple** to implement;\n",
    "   * More efficient than other Quadratic Time sorting procedure;\n",
    "   * **Adaptative algorithm;**\n",
    "   * **Stable sort;**\n",
    "   * **In-Place algorithm;**\n",
    "   * **Online algorithm** -> Sort an array as it receives ti;\n",
    "   * Hybrid algorithms uses itenstion sort if the subarrays is small enough;\n",
    "   * Variant -> Shell Sort;\n",
    "   * Requires more writes because the inner loop can require shifting large sections of the sorted portion of the array.\n",
    "   * General -> Insertion sort will write to the array **O(N²)** while selection sort will write on **O(N)**;\n",
    "   * When **memory is expensive** -> **DO NOT USE INSERTION SORT;**\n",
    "   * **Pseudocode:**\n",
    "   ``` pseudocode\n",
    "   insertionSort(array)\n",
    "       \n",
    "       for i=1 to length(array)\n",
    "           j = i\n",
    "           \n",
    "           while j>0 and array[j-1] > array[j]\n",
    "               swap(array, j, j-1)\n",
    "               j = j - 1\n",
    "    ```\n",
    "# Implementation"
   ]
  },
  {
   "cell_type": "code",
   "execution_count": 2,
   "metadata": {},
   "outputs": [],
   "source": [
    "def insertion_sort(nums):\n",
    "    \n",
    "    for i in range(len(nums)):\n",
    "        \n",
    "        j = i\n",
    "        \n",
    "        while j > 0 and nums[j - 1] > nums[j]:\n",
    "            swap(nums, j, j-1)\n",
    "            j = j - 1\n",
    "    return nums\n",
    "\n",
    "def swap(nums, i, j):\n",
    "    nums[i], nums[j] = nums[j], nums[i]"
   ]
  },
  {
   "cell_type": "code",
   "execution_count": 4,
   "metadata": {},
   "outputs": [
    {
     "name": "stdout",
     "output_type": "stream",
     "text": [
      "[1, 3, 4, 5, 7, 10, 100]\n"
     ]
    }
   ],
   "source": [
    "unsorted = [1, 5, 3, 7, 10, 100, 4]\n",
    "print(insertion_sort(unsorted))"
   ]
  },
  {
   "cell_type": "code",
   "execution_count": null,
   "metadata": {},
   "outputs": [],
   "source": []
  }
 ],
 "metadata": {
  "kernelspec": {
   "display_name": "Python 3",
   "language": "python",
   "name": "python3"
  },
  "language_info": {
   "codemirror_mode": {
    "name": "ipython",
    "version": 3
   },
   "file_extension": ".py",
   "mimetype": "text/x-python",
   "name": "python",
   "nbconvert_exporter": "python",
   "pygments_lexer": "ipython3",
   "version": "3.7.4"
  }
 },
 "nbformat": 4,
 "nbformat_minor": 2
}
